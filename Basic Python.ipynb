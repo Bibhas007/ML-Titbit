{
 "cells": [
  {
   "cell_type": "markdown",
   "id": "dc6bb048",
   "metadata": {},
   "source": [
    "### List Comprehensions"
   ]
  },
  {
   "cell_type": "code",
   "execution_count": 1,
   "id": "a7984f45",
   "metadata": {},
   "outputs": [
    {
     "name": "stdout",
     "output_type": "stream",
     "text": [
      "[1, 4, 9, 16, 25]\n"
     ]
    }
   ],
   "source": [
    "# Squaring Numbers\n",
    "\n",
    "list_1 = [1,2,3,4,5]\n",
    "squares = [x**2 for x in list_1]\n",
    "print(squares)"
   ]
  },
  {
   "cell_type": "code",
   "execution_count": 2,
   "id": "c765abc2",
   "metadata": {},
   "outputs": [
    {
     "data": {
      "text/plain": [
       "[2, 4, 6, 8, 10]"
      ]
     },
     "execution_count": 2,
     "metadata": {},
     "output_type": "execute_result"
    }
   ],
   "source": [
    "# Filtering Even Numbers\n",
    "\n",
    "list_1 = [1,2,3,4,5,6,7,8,9,10]\n",
    "prime_number = [x for x in list_1 if x%2 == 0]\n",
    "prime_number"
   ]
  },
  {
   "cell_type": "code",
   "execution_count": 3,
   "id": "ca19799a",
   "metadata": {},
   "outputs": [
    {
     "name": "stdout",
     "output_type": "stream",
     "text": [
      "['APPLE', 'BANANA', 'ORANGE']\n"
     ]
    }
   ],
   "source": [
    "# Converting a List of Strings to Uppercase\n",
    "list_1 = ['apple','banana','orange']\n",
    "upper = [word.upper() for word in list_1]\n",
    "print(upper)"
   ]
  },
  {
   "cell_type": "code",
   "execution_count": 4,
   "id": "f09b5892",
   "metadata": {},
   "outputs": [
    {
     "name": "stdout",
     "output_type": "stream",
     "text": [
      "[1, 2, 3, 4, 5, 6, 7, 8, 9]\n"
     ]
    }
   ],
   "source": [
    "# Flattening a Nested List\n",
    "list = [[1,2,3],[4,5,6],[7,8,9]]\n",
    "flattened = [num for row in list for num in row]\n",
    "print(flattened)"
   ]
  },
  {
   "cell_type": "code",
   "execution_count": 5,
   "id": "aeb73e18",
   "metadata": {},
   "outputs": [
    {
     "name": "stdout",
     "output_type": "stream",
     "text": [
      "[(1, 4), (1, 5), (1, 6), (2, 4), (2, 5), (2, 6), (3, 4), (3, 5), (3, 6)]\n"
     ]
    }
   ],
   "source": [
    "# Generating Pairs from Two Lists\n",
    "\n",
    "list_1 = [1,2,3]\n",
    "list_2 = [4,5,6]\n",
    "\n",
    "pairs = [(x,y) for x in list_1 for y in list_2]\n",
    "print(pairs)"
   ]
  },
  {
   "cell_type": "markdown",
   "id": "2b9e1262",
   "metadata": {},
   "source": [
    "### File I/O (Input/Output)"
   ]
  },
  {
   "cell_type": "code",
   "execution_count": 30,
   "id": "adf7dc4e",
   "metadata": {},
   "outputs": [
    {
     "name": "stdout",
     "output_type": "stream",
     "text": [
      "apple\n",
      "banana\n",
      "cherry\n",
      "\n"
     ]
    }
   ],
   "source": [
    "# Reading from a File\n",
    "with open ('file.txt', 'r') as file:\n",
    "    content = file.read()\n",
    "    print(content)\n",
    "    \n"
   ]
  },
  {
   "cell_type": "code",
   "execution_count": 26,
   "id": "2ab560f7",
   "metadata": {},
   "outputs": [],
   "source": [
    "#Writing to a File\n",
    "with open ('file.txt','w') as file:\n",
    "    file.write('Happy Janmashtami')"
   ]
  },
  {
   "cell_type": "code",
   "execution_count": 27,
   "id": "94c79f36",
   "metadata": {},
   "outputs": [],
   "source": [
    "# Appending to a File\n",
    "with open ('file.txt','a') as file:\n",
    "    file.write(\"\\nMy name is Bibhas Giri\")"
   ]
  },
  {
   "cell_type": "code",
   "execution_count": 28,
   "id": "c626e695",
   "metadata": {},
   "outputs": [
    {
     "name": "stdout",
     "output_type": "stream",
     "text": [
      "Happy Janmashtami\n",
      "My name is Bibhas Giri\n"
     ]
    }
   ],
   "source": [
    "#Reading a File Line by Line \n",
    "with open ('file.txt','r') as file:\n",
    "    for line in file:\n",
    "        print(line.strip())"
   ]
  },
  {
   "cell_type": "code",
   "execution_count": 29,
   "id": "b0002fdb",
   "metadata": {},
   "outputs": [],
   "source": [
    "# Writing a List to a File\n",
    "items = ['apple','banana','cherry']\n",
    "with open ('file.txt','w') as file:\n",
    "    for item in items:\n",
    "        file.write(item + '\\n')"
   ]
  },
  {
   "cell_type": "markdown",
   "id": "f73ed9ef",
   "metadata": {},
   "source": [
    "### Exception Handling"
   ]
  },
  {
   "cell_type": "code",
   "execution_count": 32,
   "id": "4d486b89",
   "metadata": {},
   "outputs": [
    {
     "name": "stdout",
     "output_type": "stream",
     "text": [
      "You cant divide by zero\n"
     ]
    }
   ],
   "source": [
    "# Handling Division by Zero\n",
    "try:\n",
    "    num = 10/0\n",
    "except ZeroDivisionError:\n",
    "    print(\"You cant divide by zero\")\n",
    "    "
   ]
  },
  {
   "cell_type": "code",
   "execution_count": 33,
   "id": "7718a61e",
   "metadata": {},
   "outputs": [
    {
     "name": "stdout",
     "output_type": "stream",
     "text": [
      "Enter a numberr\n",
      "This is not a valid number\n"
     ]
    }
   ],
   "source": [
    "# Handling Invalid Input\n",
    "try:\n",
    "    number = int(input(\"Enter a number\"))\n",
    "except ValueError:\n",
    "    print(\"This is not a valid number\")\n",
    "    "
   ]
  },
  {
   "cell_type": "code",
   "execution_count": 39,
   "id": "9efa2ab1",
   "metadata": {},
   "outputs": [
    {
     "name": "stdout",
     "output_type": "stream",
     "text": [
      "File not found\n"
     ]
    }
   ],
   "source": [
    "# Using finally for Cleanup\n",
    "try:\n",
    "    file = open('file1.txt','r')\n",
    "    data = file.read()\n",
    "except FileNotFoundError:\n",
    "    print(\"File not found\")\n",
    "finally:\n",
    "    file.close()"
   ]
  },
  {
   "cell_type": "code",
   "execution_count": 43,
   "id": "e79edc1c",
   "metadata": {},
   "outputs": [
    {
     "name": "stdout",
     "output_type": "stream",
     "text": [
      "Enter a number 0\n",
      "You cant divide by zero\n"
     ]
    }
   ],
   "source": [
    "# Handling Multiple Exceptions\n",
    "try:\n",
    "    number = int(input(\"Enter a number \"))\n",
    "    x = 10 / number\n",
    "except ValueError:\n",
    "    print(\"Enter a valid number\")\n",
    "except ZeroDivisionError:\n",
    "    print(\"You cant divide by zero\")\n",
    "    \n",
    "    "
   ]
  },
  {
   "cell_type": "code",
   "execution_count": 45,
   "id": "2b93dd7a",
   "metadata": {},
   "outputs": [
    {
     "name": "stdout",
     "output_type": "stream",
     "text": [
      "you must be atleast 18yrs old\n"
     ]
    }
   ],
   "source": [
    "# Raising Custom Exceptions\n",
    "\n",
    "def check_age(age):\n",
    "    if age<18:\n",
    "        raise ValueError(\"you must be atleast 18yrs old\")\n",
    "    else:\n",
    "        print(\"Age is valid\")\n",
    "        \n",
    "try:\n",
    "    check_age(16)\n",
    "except ValueError as e:\n",
    "    print(e)"
   ]
  },
  {
   "cell_type": "markdown",
   "id": "de32f435",
   "metadata": {},
   "source": [
    "### Class and Object Creation"
   ]
  },
  {
   "cell_type": "code",
   "execution_count": 46,
   "id": "580f26a2",
   "metadata": {},
   "outputs": [
    {
     "name": "stdout",
     "output_type": "stream",
     "text": [
      "Buddy\n"
     ]
    }
   ],
   "source": [
    "# Creating a Simple Class\n",
    "\n",
    "class Dog:\n",
    "    def __init__(self,name):\n",
    "        self.name = name \n",
    "        \n",
    "dog_1 = Dog(\"Buddy\")\n",
    "print(dog_1.name)"
   ]
  },
  {
   "cell_type": "code",
   "execution_count": 51,
   "id": "bcd3cee5",
   "metadata": {},
   "outputs": [
    {
     "name": "stdout",
     "output_type": "stream",
     "text": [
      "Buddy is barking and Buddy is Alsessian breed\n"
     ]
    }
   ],
   "source": [
    "# Adding Methods to a Class\n",
    "\n",
    "class Dog:\n",
    "    def __init__(self,name,breed):\n",
    "        self.name=name\n",
    "        self.breed=breed\n",
    "    def bark(self):\n",
    "        print(f\"{self.name} is barking and {self.name} is {self.breed} breed\")\n",
    "              \n",
    "dog_1 = Dog('Buddy','Alsessian')\n",
    "dog_1.bark()"
   ]
  },
  {
   "cell_type": "code",
   "execution_count": 56,
   "id": "192c30f4",
   "metadata": {},
   "outputs": [
    {
     "name": "stdout",
     "output_type": "stream",
     "text": [
      "mango is alfanso\n"
     ]
    }
   ],
   "source": [
    "# Inheritance in Classes\n",
    "class Animal:\n",
    "    def __init__(self):\n",
    "        self.name=None\n",
    "        self.breed=None\n",
    "class Dog(Animal):\n",
    "    def __init__(self,name,breed):\n",
    "        self.name=name\n",
    "        self.breed=breed\n",
    "    def dog(self):\n",
    "        print(f\"{self.name} is {self.breed}\")\n",
    "        \n",
    "dog_1 = Dog('mango','alfanso') \n",
    "dog_1.dog()"
   ]
  },
  {
   "cell_type": "code",
   "execution_count": 61,
   "id": "47106bf4",
   "metadata": {},
   "outputs": [
    {
     "name": "stdout",
     "output_type": "stream",
     "text": [
      "Mango is Langda and price is 100/kg.\n"
     ]
    }
   ],
   "source": [
    "# Private Attributes and Methods\n",
    "\n",
    "class Fruit:\n",
    "    def __init__(self,fruit,type):\n",
    "        self.name=fruit\n",
    "        self.breed=type\n",
    "        \n",
    "    def get_price(self,price):\n",
    "        print(f\"{self.name} is {self.breed} and price is {price}/kg.\")\n",
    "        \n",
    "fruit_1 = Fruit(\"Mango\",\"Langda\")\n",
    "fruit_1.get_price(100)"
   ]
  },
  {
   "cell_type": "code",
   "execution_count": 62,
   "id": "74b20d08",
   "metadata": {},
   "outputs": [
    {
     "name": "stdout",
     "output_type": "stream",
     "text": [
      "25\n"
     ]
    }
   ],
   "source": [
    "class Math:\n",
    "    @staticmethod\n",
    "    def square(x):\n",
    "        return x * x\n",
    "    \n",
    "print(Math.square(5))"
   ]
  },
  {
   "cell_type": "code",
   "execution_count": 64,
   "id": "b2f34e48",
   "metadata": {},
   "outputs": [
    {
     "data": {
      "text/plain": [
       "True"
      ]
     },
     "execution_count": 64,
     "metadata": {},
     "output_type": "execute_result"
    }
   ],
   "source": [
    "def reverse_string(s):\n",
    "    return s[::-1]\n",
    " \n",
    "def is_palindrome(s):\n",
    "    return s == reverse_string(s)\n",
    " \n",
    "result = is_palindrome('racecar') \n",
    "result"
   ]
  },
  {
   "cell_type": "code",
   "execution_count": 67,
   "id": "cb5b1c99",
   "metadata": {},
   "outputs": [
    {
     "data": {
      "text/plain": [
       "'atarbabed'"
      ]
     },
     "execution_count": 67,
     "metadata": {},
     "output_type": "execute_result"
    }
   ],
   "source": [
    "reverse_string('debabrata')"
   ]
  },
  {
   "cell_type": "code",
   "execution_count": 70,
   "id": "d29fd09b",
   "metadata": {},
   "outputs": [
    {
     "data": {
      "text/plain": [
       "[1, 9, 25]"
      ]
     },
     "execution_count": 70,
     "metadata": {},
     "output_type": "execute_result"
    }
   ],
   "source": [
    "def filter_and_square_odds(numbers):\n",
    "    list_1 = []\n",
    "    for number in numbers:\n",
    "        if number%2 != 0:\n",
    "            list_1.append(number)\n",
    "    list_2 = [number**2 for number in list_1]\n",
    "    return list_2\n",
    "            \n",
    " \n",
    "result = filter_and_square_odds([1, 2, 3, 4, 5])\n",
    "result "
   ]
  },
  {
   "cell_type": "code",
   "execution_count": 72,
   "id": "6cfc8939",
   "metadata": {},
   "outputs": [
    {
     "data": {
      "text/plain": [
       "[1, 9, 25]"
      ]
     },
     "execution_count": 72,
     "metadata": {},
     "output_type": "execute_result"
    }
   ],
   "source": [
    "def filter_and_square_odds(numbers):\n",
    "    return [number**2 for number in numbers if number % 2 != 0]\n",
    "\n",
    "filter_and_square_odds([1, 2, 3, 4, 5])"
   ]
  },
  {
   "cell_type": "code",
   "execution_count": 73,
   "id": "255a6e49",
   "metadata": {},
   "outputs": [
    {
     "ename": "FileNotFoundError",
     "evalue": "[Errno 2] No such file or directory: 'input.txt'",
     "output_type": "error",
     "traceback": [
      "\u001b[0;31m---------------------------------------------------------------------------\u001b[0m",
      "\u001b[0;31mFileNotFoundError\u001b[0m                         Traceback (most recent call last)",
      "Cell \u001b[0;32mIn[73], line 8\u001b[0m\n\u001b[1;32m      5\u001b[0m     \u001b[38;5;28;01mwith\u001b[39;00m \u001b[38;5;28mopen\u001b[39m (output_file,\u001b[38;5;124m'\u001b[39m\u001b[38;5;124mw\u001b[39m\u001b[38;5;124m'\u001b[39m) \u001b[38;5;28;01mas\u001b[39;00m file:\n\u001b[1;32m      6\u001b[0m         file\u001b[38;5;241m.\u001b[39mwrite(content)\n\u001b[0;32m----> 8\u001b[0m \u001b[43mprocess_file\u001b[49m\u001b[43m(\u001b[49m\u001b[38;5;124;43m'\u001b[39;49m\u001b[38;5;124;43minput.txt\u001b[39;49m\u001b[38;5;124;43m'\u001b[39;49m\u001b[43m,\u001b[49m\u001b[43m \u001b[49m\u001b[38;5;124;43m'\u001b[39;49m\u001b[38;5;124;43moutput.txt\u001b[39;49m\u001b[38;5;124;43m'\u001b[39;49m\u001b[43m)\u001b[49m\n",
      "Cell \u001b[0;32mIn[73], line 2\u001b[0m, in \u001b[0;36mprocess_file\u001b[0;34m(input_file, output_file)\u001b[0m\n\u001b[1;32m      1\u001b[0m \u001b[38;5;28;01mdef\u001b[39;00m \u001b[38;5;21mprocess_file\u001b[39m(input_file, output_file):\n\u001b[0;32m----> 2\u001b[0m     \u001b[38;5;28;01mwith\u001b[39;00m \u001b[38;5;28;43mopen\u001b[39;49m\u001b[43m \u001b[49m\u001b[43m(\u001b[49m\u001b[43minput_file\u001b[49m\u001b[43m,\u001b[49m\u001b[38;5;124;43m'\u001b[39;49m\u001b[38;5;124;43mr\u001b[39;49m\u001b[38;5;124;43m'\u001b[39;49m\u001b[43m)\u001b[49m \u001b[38;5;28;01mas\u001b[39;00m file:\n\u001b[1;32m      3\u001b[0m         content \u001b[38;5;241m=\u001b[39m file\u001b[38;5;241m.\u001b[39mread()\u001b[38;5;241m.\u001b[39mupper()\n\u001b[1;32m      5\u001b[0m     \u001b[38;5;28;01mwith\u001b[39;00m \u001b[38;5;28mopen\u001b[39m (output_file,\u001b[38;5;124m'\u001b[39m\u001b[38;5;124mw\u001b[39m\u001b[38;5;124m'\u001b[39m) \u001b[38;5;28;01mas\u001b[39;00m file:\n",
      "File \u001b[0;32m~/opt/anaconda3/lib/python3.9/site-packages/IPython/core/interactiveshell.py:282\u001b[0m, in \u001b[0;36m_modified_open\u001b[0;34m(file, *args, **kwargs)\u001b[0m\n\u001b[1;32m    275\u001b[0m \u001b[38;5;28;01mif\u001b[39;00m file \u001b[38;5;129;01min\u001b[39;00m {\u001b[38;5;241m0\u001b[39m, \u001b[38;5;241m1\u001b[39m, \u001b[38;5;241m2\u001b[39m}:\n\u001b[1;32m    276\u001b[0m     \u001b[38;5;28;01mraise\u001b[39;00m \u001b[38;5;167;01mValueError\u001b[39;00m(\n\u001b[1;32m    277\u001b[0m         \u001b[38;5;124mf\u001b[39m\u001b[38;5;124m\"\u001b[39m\u001b[38;5;124mIPython won\u001b[39m\u001b[38;5;124m'\u001b[39m\u001b[38;5;124mt let you open fd=\u001b[39m\u001b[38;5;132;01m{\u001b[39;00mfile\u001b[38;5;132;01m}\u001b[39;00m\u001b[38;5;124m by default \u001b[39m\u001b[38;5;124m\"\u001b[39m\n\u001b[1;32m    278\u001b[0m         \u001b[38;5;124m\"\u001b[39m\u001b[38;5;124mas it is likely to crash IPython. If you know what you are doing, \u001b[39m\u001b[38;5;124m\"\u001b[39m\n\u001b[1;32m    279\u001b[0m         \u001b[38;5;124m\"\u001b[39m\u001b[38;5;124myou can use builtins\u001b[39m\u001b[38;5;124m'\u001b[39m\u001b[38;5;124m open.\u001b[39m\u001b[38;5;124m\"\u001b[39m\n\u001b[1;32m    280\u001b[0m     )\n\u001b[0;32m--> 282\u001b[0m \u001b[38;5;28;01mreturn\u001b[39;00m \u001b[43mio_open\u001b[49m\u001b[43m(\u001b[49m\u001b[43mfile\u001b[49m\u001b[43m,\u001b[49m\u001b[43m \u001b[49m\u001b[38;5;241;43m*\u001b[39;49m\u001b[43margs\u001b[49m\u001b[43m,\u001b[49m\u001b[43m \u001b[49m\u001b[38;5;241;43m*\u001b[39;49m\u001b[38;5;241;43m*\u001b[39;49m\u001b[43mkwargs\u001b[49m\u001b[43m)\u001b[49m\n",
      "\u001b[0;31mFileNotFoundError\u001b[0m: [Errno 2] No such file or directory: 'input.txt'"
     ]
    }
   ],
   "source": [
    "def process_file(input_file, output_file):\n",
    "    with open (input_file,'r') as file:\n",
    "        content = file.read().upper()\n",
    "        \n",
    "    with open (output_file,'w') as file:\n",
    "        file.write(content)\n",
    "        \n",
    "process_file('input.txt', 'output.txt')"
   ]
  },
  {
   "cell_type": "code",
   "execution_count": 75,
   "id": "9322c313",
   "metadata": {},
   "outputs": [
    {
     "data": {
      "text/plain": [
       "'Hello, my name is Alice and I am 30 years old.'"
      ]
     },
     "execution_count": 75,
     "metadata": {},
     "output_type": "execute_result"
    }
   ],
   "source": [
    "class Person:\n",
    "    def __init__(self, name, age):\n",
    "        self.name = name\n",
    "        self.age = age\n",
    "\n",
    "    def greet(self):\n",
    "        return f\"Hello, my name is {self.name} and I am {self.age} years old.\"\n",
    "\n",
    "person = Person('Alice', 30)\n",
    "greeting = person.greet()\n",
    "greeting "
   ]
  },
  {
   "cell_type": "markdown",
   "id": "7a8f950e",
   "metadata": {},
   "source": [
    "### Dictionary Merging"
   ]
  },
  {
   "cell_type": "code",
   "execution_count": 76,
   "id": "9a9407ff",
   "metadata": {},
   "outputs": [
    {
     "name": "stdout",
     "output_type": "stream",
     "text": [
      "{'a': 1, 'b': 3, 'c': 4}\n"
     ]
    }
   ],
   "source": [
    "# Using update() Method\n",
    "\n",
    "dict_1 = {'a':1,'b':2}\n",
    "dict_2 = {'b':3,'c':4}\n",
    "dict_1.update(dict_2)\n",
    "print(dict_1)"
   ]
  },
  {
   "cell_type": "code",
   "execution_count": 81,
   "id": "b930bda8",
   "metadata": {},
   "outputs": [
    {
     "ename": "TypeError",
     "evalue": "unhashable type: 'dict'",
     "output_type": "error",
     "traceback": [
      "\u001b[0;31m---------------------------------------------------------------------------\u001b[0m",
      "\u001b[0;31mTypeError\u001b[0m                                 Traceback (most recent call last)",
      "Cell \u001b[0;32mIn[81], line 6\u001b[0m\n\u001b[1;32m      3\u001b[0m dict_1 \u001b[38;5;241m=\u001b[39m {\u001b[38;5;124m'\u001b[39m\u001b[38;5;124ma\u001b[39m\u001b[38;5;124m'\u001b[39m:\u001b[38;5;241m1\u001b[39m,\u001b[38;5;124m'\u001b[39m\u001b[38;5;124mb\u001b[39m\u001b[38;5;124m'\u001b[39m:\u001b[38;5;241m2\u001b[39m}\n\u001b[1;32m      4\u001b[0m dict_2 \u001b[38;5;241m=\u001b[39m {\u001b[38;5;124m'\u001b[39m\u001b[38;5;124mb\u001b[39m\u001b[38;5;124m'\u001b[39m:\u001b[38;5;241m3\u001b[39m,\u001b[38;5;124m'\u001b[39m\u001b[38;5;124mc\u001b[39m\u001b[38;5;124m'\u001b[39m:\u001b[38;5;241m4\u001b[39m}\n\u001b[0;32m----> 6\u001b[0m merged \u001b[38;5;241m=\u001b[39m {k:v \u001b[38;5;28;01mfor\u001b[39;00m d \u001b[38;5;129;01min\u001b[39;00m {dict_1,dict_2} \u001b[38;5;28;01mfor\u001b[39;00m k,v \u001b[38;5;129;01min\u001b[39;00m d\u001b[38;5;241m.\u001b[39mitems()}\n\u001b[1;32m      7\u001b[0m \u001b[38;5;28mprint\u001b[39m(merged)\n",
      "\u001b[0;31mTypeError\u001b[0m: unhashable type: 'dict'"
     ]
    }
   ],
   "source": [
    "# Using Dictionary Comprehension\n",
    "\n",
    "dict_1 = {'a':1,'b':2}\n",
    "dict_2 = {'b':3,'c':4}\n",
    "\n",
    "merged = {k:v for d in {dict_1,dict_2} for k,v in d.items()}\n",
    "print(merged)"
   ]
  },
  {
   "cell_type": "code",
   "execution_count": 82,
   "id": "72fb72a6",
   "metadata": {},
   "outputs": [
    {
     "name": "stdout",
     "output_type": "stream",
     "text": [
      "{'a': 1, 'b': 3, 'c': 4}\n"
     ]
    }
   ],
   "source": [
    "# Using the | Operator (Python 3.9+)\n",
    "dict_1 = {'a':1,'b':2}\n",
    "dict_2 = {'b':3,'c':4}\n",
    "\n",
    "merged = dict_1 | dict_2\n",
    "print(merged)"
   ]
  },
  {
   "cell_type": "code",
   "execution_count": 83,
   "id": "01f887df",
   "metadata": {},
   "outputs": [
    {
     "name": "stdout",
     "output_type": "stream",
     "text": [
      "{'a': 1, 'b': 3, 'c': 5, 'd': 6}\n"
     ]
    }
   ],
   "source": [
    "# Handling Multiple Dictionaries\n",
    "dict_1 = {'a':1,'b':2}\n",
    "dict_2 = {'b':3,'c':4}\n",
    "dict_3 = {'c':5,'d':6}\n",
    "\n",
    "merged = {**dict_1,**dict_2,**dict_3}\n",
    "print(merged)"
   ]
  },
  {
   "cell_type": "code",
   "execution_count": 84,
   "id": "74e9f1e8",
   "metadata": {},
   "outputs": [
    {
     "name": "stdout",
     "output_type": "stream",
     "text": [
      "ChainMap({'a': 1, 'b': 2}, {'b': 3, 'c': 4})\n"
     ]
    }
   ],
   "source": [
    "# Using collections.ChainMap\n",
    "\n",
    "from collections import ChainMap\n",
    "\n",
    "dict_1 = {'a':1,'b':2}\n",
    "dict_2 = {'b':3,'c':4}\n",
    "\n",
    "merged = ChainMap(dict_1,dict_2)\n",
    "print(merged)"
   ]
  },
  {
   "cell_type": "code",
   "execution_count": 85,
   "id": "81ac3324",
   "metadata": {},
   "outputs": [
    {
     "name": "stdout",
     "output_type": "stream",
     "text": [
      "{'a': 1}\n"
     ]
    }
   ],
   "source": [
    "# Edge Cases:\n",
    "# Empty Dictionaries: If one or both dictionaries are empty, the non-empty dictionary will be the result.\n",
    "dict_1 = {}\n",
    "dict_2 = {'a':1}\n",
    "merged = dict_1 | dict_2\n",
    "print(merged)"
   ]
  },
  {
   "cell_type": "markdown",
   "id": "a9a3e24d",
   "metadata": {},
   "source": [
    "### List Flattening"
   ]
  },
  {
   "cell_type": "code",
   "execution_count": 86,
   "id": "3e3f51d6",
   "metadata": {},
   "outputs": [
    {
     "name": "stdout",
     "output_type": "stream",
     "text": [
      "[1, 2, 3, 4, 5, 6, 7, 8]\n"
     ]
    }
   ],
   "source": [
    "# Flattening Using a Simple For Loop\n",
    "\n",
    "nested_list = [[1,2,3],[4,5],[6,7,8]]\n",
    "flat_list = []\n",
    "\n",
    "for sublist in nested_list:\n",
    "    for list in sublist:\n",
    "        flat_list.append(list)\n",
    "        \n",
    "print(flat_list)"
   ]
  },
  {
   "cell_type": "code",
   "execution_count": 87,
   "id": "65301c1b",
   "metadata": {},
   "outputs": [
    {
     "name": "stdout",
     "output_type": "stream",
     "text": [
      "[1, 2, 3, 4, 5, 6, 7, 8]\n"
     ]
    }
   ],
   "source": [
    "# Using List Comprehension\n",
    "nested_list = [[1,2,3],[4,5],[6,7,8]]\n",
    "flat_list = [num for sublist in nested_list for num in sublist]\n",
    "\n",
    "print(flat_list)"
   ]
  },
  {
   "cell_type": "code",
   "execution_count": 91,
   "id": "eb01e55d",
   "metadata": {},
   "outputs": [
    {
     "ename": "TypeError",
     "evalue": "'int' object is not callable",
     "output_type": "error",
     "traceback": [
      "\u001b[0;31m---------------------------------------------------------------------------\u001b[0m",
      "\u001b[0;31mTypeError\u001b[0m                                 Traceback (most recent call last)",
      "Cell \u001b[0;32mIn[91], line 5\u001b[0m\n\u001b[1;32m      2\u001b[0m \u001b[38;5;28;01mimport\u001b[39;00m \u001b[38;5;21;01mitertools\u001b[39;00m\n\u001b[1;32m      3\u001b[0m nested_list \u001b[38;5;241m=\u001b[39m [[\u001b[38;5;241m1\u001b[39m,\u001b[38;5;241m2\u001b[39m,\u001b[38;5;241m3\u001b[39m],[\u001b[38;5;241m4\u001b[39m,\u001b[38;5;241m5\u001b[39m],[\u001b[38;5;241m6\u001b[39m,\u001b[38;5;241m7\u001b[39m,\u001b[38;5;241m8\u001b[39m]]\n\u001b[0;32m----> 5\u001b[0m flat_list \u001b[38;5;241m=\u001b[39m \u001b[38;5;28;43mlist\u001b[39;49m\u001b[43m(\u001b[49m\u001b[43mitertools\u001b[49m\u001b[38;5;241;43m.\u001b[39;49m\u001b[43mchain\u001b[49m\u001b[43m(\u001b[49m\u001b[38;5;241;43m*\u001b[39;49m\u001b[43mnested_list\u001b[49m\u001b[43m)\u001b[49m\u001b[43m)\u001b[49m\n\u001b[1;32m      6\u001b[0m \u001b[38;5;28mprint\u001b[39m(flat_list)\n",
      "\u001b[0;31mTypeError\u001b[0m: 'int' object is not callable"
     ]
    }
   ],
   "source": [
    "# Using itertools.chain\n",
    "import itertools\n",
    "nested_list = [[1,2,3],[4,5],[6,7,8]]\n",
    "\n",
    "flat_list = list(itertools.chain(*nested_list))\n",
    "print(flat_list)"
   ]
  },
  {
   "cell_type": "code",
   "execution_count": 101,
   "id": "f8c1d4d0",
   "metadata": {},
   "outputs": [
    {
     "ename": "TypeError",
     "evalue": "isinstance() arg 2 must be a type or tuple of types",
     "output_type": "error",
     "traceback": [
      "\u001b[0;31m---------------------------------------------------------------------------\u001b[0m",
      "\u001b[0;31mTypeError\u001b[0m                                 Traceback (most recent call last)",
      "Cell \u001b[0;32mIn[101], line 13\u001b[0m\n\u001b[1;32m      9\u001b[0m     \u001b[38;5;28;01mreturn\u001b[39;00m flat_list\n\u001b[1;32m     11\u001b[0m list_1 \u001b[38;5;241m=\u001b[39m [\u001b[38;5;241m1\u001b[39m,[\u001b[38;5;241m2\u001b[39m,[\u001b[38;5;241m3\u001b[39m,\u001b[38;5;241m4\u001b[39m],\u001b[38;5;241m5\u001b[39m],\u001b[38;5;241m6\u001b[39m]\n\u001b[0;32m---> 13\u001b[0m \u001b[43mflatten\u001b[49m\u001b[43m(\u001b[49m\u001b[43mlist_1\u001b[49m\u001b[43m)\u001b[49m\n",
      "Cell \u001b[0;32mIn[101], line 5\u001b[0m, in \u001b[0;36mflatten\u001b[0;34m(lst)\u001b[0m\n\u001b[1;32m      3\u001b[0m flat_list \u001b[38;5;241m=\u001b[39m []\n\u001b[1;32m      4\u001b[0m \u001b[38;5;28;01mfor\u001b[39;00m item \u001b[38;5;129;01min\u001b[39;00m lst:\n\u001b[0;32m----> 5\u001b[0m     \u001b[38;5;28;01mif\u001b[39;00m \u001b[38;5;28;43misinstance\u001b[39;49m\u001b[43m \u001b[49m\u001b[43m(\u001b[49m\u001b[43mitem\u001b[49m\u001b[43m,\u001b[49m\u001b[38;5;28;43mlist\u001b[39;49m\u001b[43m)\u001b[49m:\n\u001b[1;32m      6\u001b[0m         flat_list\u001b[38;5;241m.\u001b[39mextend(flatten(item))\n\u001b[1;32m      7\u001b[0m     \u001b[38;5;28;01melse\u001b[39;00m:\n",
      "\u001b[0;31mTypeError\u001b[0m: isinstance() arg 2 must be a type or tuple of types"
     ]
    }
   ],
   "source": [
    "# Flattening a List of Arbitrary Depth\n",
    "def flatten(lst):\n",
    "    flat_list = []\n",
    "    for item in lst:\n",
    "        if isinstance (item,list):\n",
    "            flat_list.extend(flatten(item))\n",
    "        else:\n",
    "            flat_list.append(item)\n",
    "    return flat_list\n",
    "\n",
    "list_1 = [1,[2,[3,4],5],6]\n",
    "\n",
    "flatten(list_1)"
   ]
  },
  {
   "cell_type": "code",
   "execution_count": 105,
   "id": "6e9e04d5",
   "metadata": {},
   "outputs": [
    {
     "name": "stdout",
     "output_type": "stream",
     "text": [
      "[[1, 2, 3], [4, 5], [6, 7, 8]]\n"
     ]
    },
    {
     "name": "stderr",
     "output_type": "stream",
     "text": [
      "/var/folders/gf/mkjgt1c51_s53fts0ybhhp8m0000gn/T/ipykernel_1697/3145589434.py:5: VisibleDeprecationWarning: Creating an ndarray from ragged nested sequences (which is a list-or-tuple of lists-or-tuples-or ndarrays with different lengths or shapes) is deprecated. If you meant to do this, you must specify 'dtype=object' when creating the ndarray.\n",
      "  flatten_list = np.array(nested_list).flatten().tolist()\n"
     ]
    }
   ],
   "source": [
    "# Using numpy to Flatten\n",
    "import numpy as np\n",
    "\n",
    "nested_list = [[1,2,3],[4,5],[6,7,8]]\n",
    "flatten_list = np.array(nested_list).flatten().tolist()\n",
    "print(flatten_list)\n",
    "\n"
   ]
  },
  {
   "cell_type": "code",
   "execution_count": 107,
   "id": "2637685e",
   "metadata": {},
   "outputs": [
    {
     "name": "stdout",
     "output_type": "stream",
     "text": [
      "[]\n"
     ]
    }
   ],
   "source": [
    "nested = [[],[]]\n",
    "flattend = [item for sublist in nested for item in sublist]\n",
    "print(flattend)"
   ]
  },
  {
   "cell_type": "markdown",
   "id": "5a9286ad",
   "metadata": {},
   "source": [
    "### Sorting with Custom Key"
   ]
  },
  {
   "cell_type": "code",
   "execution_count": 108,
   "id": "ee2d40ad",
   "metadata": {},
   "outputs": [
    {
     "name": "stdout",
     "output_type": "stream",
     "text": [
      "[(3, 'a'), (2, 'b'), (1, 'c')]\n"
     ]
    }
   ],
   "source": [
    "# Sorting a List of Tuples by the Second Element\n",
    "\n",
    "data = [(1,'c'),(3,'a'),(2,'b')]\n",
    "sorted_data = sorted(data,key=lambda x: x[1])\n",
    "print(sorted_data)"
   ]
  },
  {
   "cell_type": "code",
   "execution_count": 109,
   "id": "848dd8f3",
   "metadata": {},
   "outputs": [
    {
     "name": "stdout",
     "output_type": "stream",
     "text": [
      "[{'name': 'Charlie', 'age': 20}, {'name': 'Alice', 'age': 25}, {'name': 'Bob', 'age': 30}]\n"
     ]
    }
   ],
   "source": [
    "# Sorting a List of Dictionaries by a Specific Key\n",
    "people = [{\"name\": \"Alice\",\"age\":25},\n",
    "         {\"name\": \"Bob\", \"age\": 30},\n",
    "         {\"name\":\"Charlie\",\"age\":20}]\n",
    "\n",
    "sorted_people = sorted(people,key=lambda person:person[\"age\"])\n",
    "print(sorted_people)"
   ]
  },
  {
   "cell_type": "code",
   "execution_count": 113,
   "id": "ba94d213",
   "metadata": {},
   "outputs": [
    {
     "name": "stdout",
     "output_type": "stream",
     "text": [
      "['kiwi', 'apple', 'banana', 'orange']\n"
     ]
    }
   ],
   "source": [
    "# Sorting Strings by Length\n",
    "strings = [\"apple\",\"banana\",\"orange\",'kiwi']\n",
    "sorted_list = sorted(strings,key=len)\n",
    "print(sorted_list)"
   ]
  },
  {
   "cell_type": "code",
   "execution_count": 114,
   "id": "5d56c1ae",
   "metadata": {},
   "outputs": [
    {
     "name": "stdout",
     "output_type": "stream",
     "text": [
      "[9, 8, 5, 4, 2, 1, 0]\n"
     ]
    }
   ],
   "source": [
    "# Sorting in Reverse Order\n",
    "numbers = [8,2,4,5,0,1,9]\n",
    "sorted_list = sorted(numbers, reverse = True)\n",
    "\n",
    "print(sorted_list)"
   ]
  },
  {
   "cell_type": "code",
   "execution_count": 115,
   "id": "aae05918",
   "metadata": {},
   "outputs": [
    {
     "name": "stdout",
     "output_type": "stream",
     "text": [
      "Charlie 20\n",
      "Alice 25\n",
      "Bob 30\n"
     ]
    }
   ],
   "source": [
    "# Sorting Complex Objects\n",
    "class Person:\n",
    "    def __init__(self,name,age):\n",
    "        self.name = name\n",
    "        self.age = age \n",
    "        \n",
    "people = [Person(\"Alice\",25),Person(\"Bob\",30),Person(\"Charlie\",20)]\n",
    "\n",
    "sorted_people = sorted(people, key=lambda person:person.age)\n",
    "\n",
    "for person in sorted_people:\n",
    "    print(person.name,person.age)"
   ]
  },
  {
   "cell_type": "code",
   "execution_count": 116,
   "id": "2f022ce9",
   "metadata": {},
   "outputs": [
    {
     "name": "stdout",
     "output_type": "stream",
     "text": [
      "Anil 25\n",
      "Raj 30\n",
      "Rahul 45\n"
     ]
    }
   ],
   "source": [
    "class Person:\n",
    "    def __init__(self,name,age):\n",
    "        self.name = name\n",
    "        self.age = age\n",
    "        \n",
    "people = [Person(\"Rahul\",45),Person(\"Raj\",30),Person(\"Anil\",25)]\n",
    "\n",
    "sorted_people = sorted(people,key = lambda person:person.age)\n",
    "\n",
    "for people in sorted_people:\n",
    "    print(people.name,people.age)\n",
    "        "
   ]
  },
  {
   "cell_type": "code",
   "execution_count": 118,
   "id": "6e1e0bab",
   "metadata": {},
   "outputs": [
    {
     "name": "stdout",
     "output_type": "stream",
     "text": [
      "[1, 2, 3, None]\n"
     ]
    }
   ],
   "source": [
    "# Sorting with None Values\n",
    "data = [3,None,1,2]\n",
    "\n",
    "sorted_data = sorted(data,key=lambda x:(x is None,x))\n",
    "print(sorted_data)"
   ]
  },
  {
   "cell_type": "code",
   "execution_count": 119,
   "id": "7a62c824",
   "metadata": {},
   "outputs": [
    {
     "name": "stdout",
     "output_type": "stream",
     "text": [
      "[('Jane', 'A'), ('John', 'A'), ('John', 'B')]\n"
     ]
    }
   ],
   "source": [
    "# Stability of Sorting:\n",
    "data = [(\"John\",\"B\"),(\"Jane\",\"A\"),(\"John\",\"A\")]\n",
    "sorted_data = sorted(data, key=lambda x:(x[0],x[1]))\n",
    "print(sorted_data)\n"
   ]
  },
  {
   "cell_type": "markdown",
   "id": "38be2ac9",
   "metadata": {},
   "source": [
    "### Regular Expressions"
   ]
  },
  {
   "cell_type": "code",
   "execution_count": 121,
   "id": "6a81272a",
   "metadata": {},
   "outputs": [
    {
     "name": "stdout",
     "output_type": "stream",
     "text": [
      "Exact match found\n"
     ]
    }
   ],
   "source": [
    "# 1. Simple Pattern Matching\n",
    "import re\n",
    "pattern = r\"hello\"\n",
    "text = \"hello world\"\n",
    "\n",
    "match = re.match(pattern,text)\n",
    "\n",
    "if match:\n",
    "    print(\"Exact match found\")\n",
    "else:\n",
    "    print(\"No match\")"
   ]
  },
  {
   "cell_type": "code",
   "execution_count": 122,
   "id": "2345764e",
   "metadata": {},
   "outputs": [
    {
     "name": "stdout",
     "output_type": "stream",
     "text": [
      "Found '.com'\n"
     ]
    }
   ],
   "source": [
    "# 2. Special Characters and Escaping\n",
    "import re\n",
    "\n",
    "pattern = r\"\\.com\"\n",
    "text = \"www.example.com\"\n",
    "\n",
    "match = re.search(pattern,text)\n",
    "\n",
    "if match:\n",
    "    print(\"Found '.com'\")\n",
    "else:\n",
    "    print(\"'.com' not found\")"
   ]
  },
  {
   "cell_type": "code",
   "execution_count": 123,
   "id": "0e76e7be",
   "metadata": {},
   "outputs": [
    {
     "name": "stdout",
     "output_type": "stream",
     "text": [
      "['o']\n"
     ]
    }
   ],
   "source": [
    "# 3. Character Sets and Ranges\n",
    "import re\n",
    "\n",
    "pattern = r\"[aeiou]\"\n",
    "text = \"Python\"\n",
    "vowels = re.findall(pattern,text)\n",
    "print(vowels)"
   ]
  },
  {
   "cell_type": "code",
   "execution_count": 124,
   "id": "1beb779e",
   "metadata": {},
   "outputs": [
    {
     "name": "stdout",
     "output_type": "stream",
     "text": [
      "['1', '2', '3', '4', '5']\n"
     ]
    }
   ],
   "source": [
    "pattern = r\"[0-9]\"\n",
    "text = \"My number is 12345\"\n",
    "digits = re.findall(pattern,text)\n",
    "\n",
    "print(digits)"
   ]
  },
  {
   "cell_type": "code",
   "execution_count": 126,
   "id": "080f2f10",
   "metadata": {},
   "outputs": [
    {
     "name": "stdout",
     "output_type": "stream",
     "text": [
      "['250', '45']\n"
     ]
    }
   ],
   "source": [
    "# 4. Predefined Character Classes\n",
    "\n",
    "import re\n",
    "\n",
    "pattern = r\"\\d+\"\n",
    "text = \"The price is 250 rupees\"\n",
    "numbers = re.findall(pattern,text)\n",
    "\n",
    "print(numbers)"
   ]
  },
  {
   "cell_type": "code",
   "execution_count": 133,
   "id": "f9612f89",
   "metadata": {},
   "outputs": [
    {
     "name": "stdout",
     "output_type": "stream",
     "text": [
      "String start with 'Hello'\n",
      "String end with 'World'\n"
     ]
    }
   ],
   "source": [
    "# 5. Anchors: Start and End of String\n",
    "\n",
    "import re\n",
    "\n",
    "text = \"Hello World\"\n",
    "pattern_start = r\"Hello\"\n",
    "match = re.match(pattern_start,text)\n",
    "if match:\n",
    "    print(\"String start with 'Hello'\")\n",
    "    \n",
    "pattern_end = r\"World$\"\n",
    "match_end=re.search(pattern_end,text)\n",
    "\n",
    "if match_end:\n",
    "    print(\"String end with 'World'\")"
   ]
  },
  {
   "cell_type": "code",
   "execution_count": 134,
   "id": "d85c775b",
   "metadata": {},
   "outputs": [
    {
     "name": "stdout",
     "output_type": "stream",
     "text": [
      "Found SSN: 123-45-6789\n"
     ]
    }
   ],
   "source": [
    "# 6. Quantifiers\n",
    "import re\n",
    "\n",
    "pattern = r\"\\d{3}-\\d{2}-\\d{4}\"\n",
    "text = \"My SSN is 123-45-6789\"\n",
    "\n",
    "match = re.search(pattern,text)\n",
    "if match:\n",
    "    print(\"Found SSN:\",match.group())"
   ]
  },
  {
   "cell_type": "code",
   "execution_count": 139,
   "id": "64188d72",
   "metadata": {},
   "outputs": [
    {
     "name": "stdout",
     "output_type": "stream",
     "text": [
      "Area Number: 123\n",
      "Group Number: 45\n",
      "Serial Number: 6789\n"
     ]
    }
   ],
   "source": [
    "# 7. Groups and Capturing\n",
    "import re\n",
    "\n",
    "pattern = r\"(\\d{3})-(\\d{2})-(\\d{4})\"\n",
    "text = \"SSN: 123-45-6789\"\n",
    "match = re.search(pattern,text)\n",
    "\n",
    "if match:\n",
    "    print(\"Area Number:\",match.group(1))\n",
    "    print(\"Group Number:\",match.group(2))\n",
    "    print(\"Serial Number:\",match.group(3))\n"
   ]
  },
  {
   "cell_type": "code",
   "execution_count": 145,
   "id": "bbeb93b4",
   "metadata": {},
   "outputs": [
    {
     "name": "stdout",
     "output_type": "stream",
     "text": [
      "['Item1', 'Item2', 'Item3']\n"
     ]
    }
   ],
   "source": [
    "# 8. Non-Capturing Groups and Lookarounds\n",
    "\n",
    "# Positive Lookahead\n",
    "import re\n",
    "pattern = r\"\\w+(?=\\s\\d)\"\n",
    "text = \"Item1 100 Item2 200 Item3 300\"\n",
    "matches = re.findall(pattern,text)\n",
    "\n",
    "print(matches)\n",
    "\n",
    "# Negative Lookahead\n",
    "import re\n",
    "pattern = r\"\\d{4}(?!\\sUSD)\"\n",
    "text = \"The price is 1234 USD and the code is 5678\"\n",
    "matches = re.findall(pattern,text)\n",
    "\n",
    "print(matches)"
   ]
  },
  {
   "cell_type": "code",
   "execution_count": 146,
   "id": "dced5ff9",
   "metadata": {},
   "outputs": [
    {
     "name": "stdout",
     "output_type": "stream",
     "text": [
      "I have some apples and some oranges\n"
     ]
    }
   ],
   "source": [
    "# 9. Substitution Using re.sub()\n",
    "\n",
    "import re\n",
    "pattern = r\"\\d+\"\n",
    "text = \"I have 5 apples and 12 oranges\"\n",
    "new_text = re.sub(pattern,\"some\",text)\n",
    "\n",
    "print(new_text)"
   ]
  },
  {
   "cell_type": "code",
   "execution_count": 147,
   "id": "36575017",
   "metadata": {},
   "outputs": [
    {
     "name": "stdout",
     "output_type": "stream",
     "text": [
      "['apple', 'banana', 'orange']\n"
     ]
    }
   ],
   "source": [
    "# 10. Splitting a String Using re.split()\n",
    "import re\n",
    "\n",
    "pattern = r\"[,\\s]+\"\n",
    "text = \"apple, banana orange\"\n",
    "fruits = re.split(pattern, text)\n",
    "\n",
    "print(fruits)"
   ]
  },
  {
   "cell_type": "code",
   "execution_count": null,
   "id": "2287ae97",
   "metadata": {},
   "outputs": [],
   "source": []
  }
 ],
 "metadata": {
  "kernelspec": {
   "display_name": "Python 3 (ipykernel)",
   "language": "python",
   "name": "python3"
  },
  "language_info": {
   "codemirror_mode": {
    "name": "ipython",
    "version": 3
   },
   "file_extension": ".py",
   "mimetype": "text/x-python",
   "name": "python",
   "nbconvert_exporter": "python",
   "pygments_lexer": "ipython3",
   "version": "3.9.16"
  }
 },
 "nbformat": 4,
 "nbformat_minor": 5
}
