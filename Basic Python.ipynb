{
 "cells": [
  {
   "cell_type": "markdown",
   "id": "06d80649",
   "metadata": {},
   "source": [
    "### List Comprehensions"
   ]
  },
  {
   "cell_type": "code",
   "execution_count": null,
   "id": "cfba3323",
   "metadata": {},
   "outputs": [],
   "source": [
    "# Squaring Numbers\n",
    "\n",
    "list_1 = [1,2,3,4,5]\n",
    "squares = [x**2 for x in list_1]\n",
    "print(squares)"
   ]
  },
  {
   "cell_type": "code",
   "execution_count": null,
   "id": "1095a928",
   "metadata": {},
   "outputs": [],
   "source": [
    "# Filtering Even Numbers\n",
    "\n",
    "list_1 = [1,2,3,4,5,6,7,8,9,10]\n",
    "prime_number = [x for x in list_1 if x%2 == 0]\n",
    "prime_number"
   ]
  },
  {
   "cell_type": "code",
   "execution_count": null,
   "id": "02d596e3",
   "metadata": {},
   "outputs": [],
   "source": [
    "# Converting a List of Strings to Uppercase\n",
    "list_1 = ['apple','banana','orange']\n",
    "upper = [word.upper() for word in list_1]\n",
    "print(upper)"
   ]
  },
  {
   "cell_type": "code",
   "execution_count": null,
   "id": "483f7f38",
   "metadata": {},
   "outputs": [],
   "source": [
    "# Flattening a Nested List\n",
    "list = [[1,2,3],[4,5,6],[7,8,9]]\n",
    "flattened = [num for row in list for num in row]\n",
    "print(flattened)"
   ]
  },
  {
   "cell_type": "code",
   "execution_count": null,
   "id": "0e5b5ce7",
   "metadata": {},
   "outputs": [],
   "source": [
    "# Generating Pairs from Two Lists\n",
    "\n",
    "list_1 = [1,2,3]\n",
    "list_2 = [4,5,6]\n",
    "\n",
    "pairs = [(x,y) for x in list_1 for y in list_2]\n",
    "print(pairs)"
   ]
  },
  {
   "cell_type": "markdown",
   "id": "f45d769b",
   "metadata": {},
   "source": [
    "### File I/O (Input/Output)"
   ]
  },
  {
   "cell_type": "code",
   "execution_count": null,
   "id": "c1976520",
   "metadata": {},
   "outputs": [],
   "source": [
    "# Reading from a File\n",
    "with open ('file.txt', 'r') as file:\n",
    "    content = file.read()\n",
    "    print(content)\n",
    "    \n"
   ]
  },
  {
   "cell_type": "code",
   "execution_count": null,
   "id": "368e8fa9",
   "metadata": {},
   "outputs": [],
   "source": [
    "#Writing to a File\n",
    "with open ('file.txt','w') as file:\n",
    "    file.write('Happy Janmashtami')"
   ]
  },
  {
   "cell_type": "code",
   "execution_count": null,
   "id": "b773801a",
   "metadata": {},
   "outputs": [],
   "source": [
    "# Appending to a File\n",
    "with open ('file.txt','a') as file:\n",
    "    file.write(\"\\nMy name is Bibhas Giri\")"
   ]
  },
  {
   "cell_type": "code",
   "execution_count": null,
   "id": "b4a2e56f",
   "metadata": {},
   "outputs": [],
   "source": [
    "#Reading a File Line by Line \n",
    "with open ('file.txt','r') as file:\n",
    "    for line in file:\n",
    "        print(line.strip())"
   ]
  },
  {
   "cell_type": "code",
   "execution_count": null,
   "id": "44ae3194",
   "metadata": {},
   "outputs": [],
   "source": [
    "# Writing a List to a File\n",
    "items = ['apple','banana','cherry']\n",
    "with open ('file.txt','w') as file:\n",
    "    for item in items:\n",
    "        file.write(item + '\\n')"
   ]
  },
  {
   "cell_type": "markdown",
   "id": "e698d3b0",
   "metadata": {},
   "source": [
    "### Exception Handling"
   ]
  },
  {
   "cell_type": "code",
   "execution_count": null,
   "id": "8fa7b8f1",
   "metadata": {},
   "outputs": [],
   "source": [
    "# Handling Division by Zero\n",
    "try:\n",
    "    num = 10/0\n",
    "except ZeroDivisionError:\n",
    "    print(\"You cant divide by zero\")\n",
    "    "
   ]
  },
  {
   "cell_type": "code",
   "execution_count": null,
   "id": "7933cf4c",
   "metadata": {},
   "outputs": [],
   "source": [
    "# Handling Invalid Input\n",
    "try:\n",
    "    number = int(input(\"Enter a number\"))\n",
    "except ValueError:\n",
    "    print(\"This is not a valid number\")\n",
    "    "
   ]
  },
  {
   "cell_type": "code",
   "execution_count": null,
   "id": "b83f9e11",
   "metadata": {},
   "outputs": [],
   "source": [
    "# Using finally for Cleanup\n",
    "try:\n",
    "    file = open('file1.txt','r')\n",
    "    data = file.read()\n",
    "except FileNotFoundError:\n",
    "    print(\"File not found\")\n",
    "finally:\n",
    "    file.close()"
   ]
  },
  {
   "cell_type": "code",
   "execution_count": null,
   "id": "c0f38555",
   "metadata": {},
   "outputs": [],
   "source": [
    "# Handling Multiple Exceptions\n",
    "try:\n",
    "    number = int(input(\"Enter a number \"))\n",
    "    x = 10 / number\n",
    "except ValueError:\n",
    "    print(\"Enter a valid number\")\n",
    "except ZeroDivisionError:\n",
    "    print(\"You cant divide by zero\")\n",
    "    \n",
    "    "
   ]
  },
  {
   "cell_type": "code",
   "execution_count": null,
   "id": "1c16d769",
   "metadata": {},
   "outputs": [],
   "source": [
    "# Raising Custom Exceptions\n",
    "\n",
    "def check_age(age):\n",
    "    if age<18:\n",
    "        raise ValueError(\"you must be atleast 18yrs old\")\n",
    "    else:\n",
    "        print(\"Age is valid\")\n",
    "        \n",
    "try:\n",
    "    check_age(16)\n",
    "except ValueError as e:\n",
    "    print(e)"
   ]
  },
  {
   "cell_type": "markdown",
   "id": "45d66f8b",
   "metadata": {},
   "source": [
    "### Class and Object Creation"
   ]
  },
  {
   "cell_type": "code",
   "execution_count": null,
   "id": "2c820fde",
   "metadata": {},
   "outputs": [],
   "source": [
    "# Creating a Simple Class\n",
    "\n",
    "class Dog:\n",
    "    def __init__(self,name):\n",
    "        self.name = name \n",
    "        \n",
    "dog_1 = Dog(\"Buddy\")\n",
    "print(dog_1.name)"
   ]
  },
  {
   "cell_type": "code",
   "execution_count": null,
   "id": "c0600bba",
   "metadata": {},
   "outputs": [],
   "source": [
    "# Adding Methods to a Class\n",
    "\n",
    "class Dog:\n",
    "    def __init__(self,name,breed):\n",
    "        self.name=name\n",
    "        self.breed=breed\n",
    "    def bark(self):\n",
    "        print(f\"{self.name} is barking and {self.name} is {self.breed} breed\")\n",
    "              \n",
    "dog_1 = Dog('Buddy','Alsessian')\n",
    "dog_1.bark()"
   ]
  },
  {
   "cell_type": "code",
   "execution_count": null,
   "id": "4fab0fb2",
   "metadata": {},
   "outputs": [],
   "source": [
    "# Inheritance in Classes\n",
    "class Animal:\n",
    "    def __init__(self):\n",
    "        self.name=None\n",
    "        self.breed=None\n",
    "class Dog(Animal):\n",
    "    def __init__(self,name,breed):\n",
    "        self.name=name\n",
    "        self.breed=breed\n",
    "    def dog(self):\n",
    "        print(f\"{self.name} is {self.breed}\")\n",
    "        \n",
    "dog_1 = Dog('mango','alfanso') \n",
    "dog_1.dog()"
   ]
  },
  {
   "cell_type": "code",
   "execution_count": null,
   "id": "38ea79ff",
   "metadata": {},
   "outputs": [],
   "source": [
    "# Private Attributes and Methods\n",
    "\n",
    "class Fruit:\n",
    "    def __init__(self,fruit,type):\n",
    "        self.name=fruit\n",
    "        self.breed=type\n",
    "        \n",
    "    def get_price(self,price):\n",
    "        print(f\"{self.name} is {self.breed} and price is {price}/kg.\")\n",
    "        \n",
    "fruit_1 = Fruit(\"Mango\",\"Langda\")\n",
    "fruit_1.get_price(100)"
   ]
  },
  {
   "cell_type": "code",
   "execution_count": null,
   "id": "3920a2ed",
   "metadata": {},
   "outputs": [],
   "source": [
    "class Math:\n",
    "    @staticmethod\n",
    "    def square(x):\n",
    "        return x * x\n",
    "    \n",
    "print(Math.square(5))"
   ]
  },
  {
   "cell_type": "code",
   "execution_count": null,
   "id": "dfb4bb12",
   "metadata": {},
   "outputs": [],
   "source": [
    "def reverse_string(s):\n",
    "    return s[::-1]\n",
    " \n",
    "def is_palindrome(s):\n",
    "    return s == reverse_string(s)\n",
    " \n",
    "result = is_palindrome('racecar') \n",
    "result"
   ]
  },
  {
   "cell_type": "code",
   "execution_count": null,
   "id": "1fd7bf5d",
   "metadata": {},
   "outputs": [],
   "source": [
    "reverse_string('debabrata')"
   ]
  },
  {
   "cell_type": "code",
   "execution_count": null,
   "id": "b3bc6d1f",
   "metadata": {},
   "outputs": [],
   "source": [
    "def filter_and_square_odds(numbers):\n",
    "    list_1 = []\n",
    "    for number in numbers:\n",
    "        if number%2 != 0:\n",
    "            list_1.append(number)\n",
    "    list_2 = [number**2 for number in list_1]\n",
    "    return list_2\n",
    "            \n",
    " \n",
    "result = filter_and_square_odds([1, 2, 3, 4, 5])\n",
    "result "
   ]
  },
  {
   "cell_type": "code",
   "execution_count": null,
   "id": "202e702a",
   "metadata": {},
   "outputs": [],
   "source": [
    "def filter_and_square_odds(numbers):\n",
    "    return [number**2 for number in numbers if number % 2 != 0]\n",
    "\n",
    "filter_and_square_odds([1, 2, 3, 4, 5])"
   ]
  },
  {
   "cell_type": "code",
   "execution_count": null,
   "id": "f0d9d007",
   "metadata": {},
   "outputs": [],
   "source": [
    "def process_file(input_file, output_file):\n",
    "    with open (input_file,'r') as file:\n",
    "        content = file.read().upper()\n",
    "        \n",
    "    with open (output_file,'w') as file:\n",
    "        file.write(content)\n",
    "        \n",
    "process_file('input.txt', 'output.txt')"
   ]
  },
  {
   "cell_type": "code",
   "execution_count": null,
   "id": "38fdd770",
   "metadata": {},
   "outputs": [],
   "source": [
    "class Person:\n",
    "    def __init__(self, name, age):\n",
    "        self.name = name\n",
    "        self.age = age\n",
    "\n",
    "    def greet(self):\n",
    "        return f\"Hello, my name is {self.name} and I am {self.age} years old.\"\n",
    "\n",
    "person = Person('Alice', 30)\n",
    "greeting = person.greet()\n",
    "greeting "
   ]
  },
  {
   "cell_type": "markdown",
   "id": "9e45cd30",
   "metadata": {},
   "source": [
    "### Dictionary Merging"
   ]
  },
  {
   "cell_type": "code",
   "execution_count": null,
   "id": "25e56051",
   "metadata": {},
   "outputs": [],
   "source": [
    "# Using update() Method\n",
    "\n",
    "dict_1 = {'a':1,'b':2}\n",
    "dict_2 = {'b':3,'c':4}\n",
    "dict_1.update(dict_2)\n",
    "print(dict_1)"
   ]
  },
  {
   "cell_type": "code",
   "execution_count": null,
   "id": "686166c6",
   "metadata": {},
   "outputs": [],
   "source": [
    "# Using Dictionary Comprehension\n",
    "\n",
    "dict_1 = {'a':1,'b':2}\n",
    "dict_2 = {'b':3,'c':4}\n",
    "\n",
    "merged = {k:v for d in {dict_1,dict_2} for k,v in d.items()}\n",
    "print(merged)"
   ]
  },
  {
   "cell_type": "code",
   "execution_count": null,
   "id": "df97f3b7",
   "metadata": {},
   "outputs": [],
   "source": [
    "# Using the | Operator (Python 3.9+)\n",
    "dict_1 = {'a':1,'b':2}\n",
    "dict_2 = {'b':3,'c':4}\n",
    "\n",
    "merged = dict_1 | dict_2\n",
    "print(merged)"
   ]
  },
  {
   "cell_type": "code",
   "execution_count": null,
   "id": "41a2b688",
   "metadata": {},
   "outputs": [],
   "source": [
    "# Handling Multiple Dictionaries\n",
    "dict_1 = {'a':1,'b':2}\n",
    "dict_2 = {'b':3,'c':4}\n",
    "dict_3 = {'c':5,'d':6}\n",
    "\n",
    "merged = {**dict_1,**dict_2,**dict_3}\n",
    "print(merged)"
   ]
  },
  {
   "cell_type": "code",
   "execution_count": null,
   "id": "3c9b0eca",
   "metadata": {},
   "outputs": [],
   "source": [
    "# Using collections.ChainMap\n",
    "\n",
    "from collections import ChainMap\n",
    "\n",
    "dict_1 = {'a':1,'b':2}\n",
    "dict_2 = {'b':3,'c':4}\n",
    "\n",
    "merged = ChainMap(dict_1,dict_2)\n",
    "print(merged)"
   ]
  },
  {
   "cell_type": "code",
   "execution_count": null,
   "id": "4d03f6b8",
   "metadata": {},
   "outputs": [],
   "source": [
    "# Edge Cases:\n",
    "# Empty Dictionaries: If one or both dictionaries are empty, the non-empty dictionary will be the result.\n",
    "dict_1 = {}\n",
    "dict_2 = {'a':1}\n",
    "merged = dict_1 | dict_2\n",
    "print(merged)"
   ]
  },
  {
   "cell_type": "markdown",
   "id": "ff605482",
   "metadata": {},
   "source": [
    "### List Flattening"
   ]
  },
  {
   "cell_type": "code",
   "execution_count": null,
   "id": "2e29b9f0",
   "metadata": {},
   "outputs": [],
   "source": [
    "# Flattening Using a Simple For Loop\n",
    "\n",
    "nested_list = [[1,2,3],[4,5],[6,7,8]]\n",
    "flat_list = []\n",
    "\n",
    "for sublist in nested_list:\n",
    "    for list in sublist:\n",
    "        flat_list.append(list)\n",
    "        \n",
    "print(flat_list)"
   ]
  },
  {
   "cell_type": "code",
   "execution_count": null,
   "id": "6cb3ae37",
   "metadata": {},
   "outputs": [],
   "source": [
    "# Using List Comprehension\n",
    "nested_list = [[1,2,3],[4,5],[6,7,8]]\n",
    "flat_list = [num for sublist in nested_list for num in sublist]\n",
    "\n",
    "print(flat_list)"
   ]
  },
  {
   "cell_type": "code",
   "execution_count": null,
   "id": "53ae40d8",
   "metadata": {},
   "outputs": [],
   "source": [
    "# Using itertools.chain\n",
    "import itertools\n",
    "nested_list = [[1,2,3],[4,5],[6,7,8]]\n",
    "\n",
    "flat_list = list(itertools.chain(*nested_list))\n",
    "print(flat_list)"
   ]
  },
  {
   "cell_type": "code",
   "execution_count": null,
   "id": "403f7f1b",
   "metadata": {},
   "outputs": [],
   "source": [
    "# Flattening a List of Arbitrary Depth\n",
    "def flatten(lst):\n",
    "    flat_list = []\n",
    "    for item in lst:\n",
    "        if isinstance (item,list):\n",
    "            flat_list.extend(flatten(item))\n",
    "        else:\n",
    "            flat_list.append(item)\n",
    "    return flat_list\n",
    "\n",
    "list_1 = [1,[2,[3,4],5],6]\n",
    "\n",
    "flatten(list_1)"
   ]
  },
  {
   "cell_type": "code",
   "execution_count": null,
   "id": "63182b0f",
   "metadata": {},
   "outputs": [],
   "source": [
    "# Using numpy to Flatten\n",
    "import numpy as np\n",
    "\n",
    "nested_list = [[1,2,3],[4,5],[6,7,8]]\n",
    "flatten_list = np.array(nested_list).flatten().tolist()\n",
    "print(flatten_list)\n",
    "\n"
   ]
  },
  {
   "cell_type": "code",
   "execution_count": null,
   "id": "c623d778",
   "metadata": {},
   "outputs": [],
   "source": [
    "nested = [[],[]]\n",
    "flattend = [item for sublist in nested for item in sublist]\n",
    "print(flattend)"
   ]
  },
  {
   "cell_type": "markdown",
   "id": "c62323fb",
   "metadata": {},
   "source": [
    "### Sorting with Custom Key"
   ]
  },
  {
   "cell_type": "code",
   "execution_count": null,
   "id": "14a061e6",
   "metadata": {},
   "outputs": [],
   "source": [
    "# Sorting a List of Tuples by the Second Element\n",
    "\n",
    "data = [(1,'c'),(3,'a'),(2,'b')]\n",
    "sorted_data = sorted(data,key=lambda x: x[1])\n",
    "print(sorted_data)"
   ]
  },
  {
   "cell_type": "code",
   "execution_count": null,
   "id": "92d89354",
   "metadata": {},
   "outputs": [],
   "source": [
    "# Sorting a List of Dictionaries by a Specific Key\n",
    "people = [{\"name\": \"Alice\",\"age\":25},\n",
    "         {\"name\": \"Bob\", \"age\": 30},\n",
    "         {\"name\":\"Charlie\",\"age\":20}]\n",
    "\n",
    "sorted_people = sorted(people,key=lambda person:person[\"age\"])\n",
    "print(sorted_people)"
   ]
  },
  {
   "cell_type": "code",
   "execution_count": null,
   "id": "e7d40428",
   "metadata": {},
   "outputs": [],
   "source": [
    "# Sorting Strings by Length\n",
    "strings = [\"apple\",\"banana\",\"orange\",'kiwi']\n",
    "sorted_list = sorted(strings,key=len)\n",
    "print(sorted_list)"
   ]
  },
  {
   "cell_type": "code",
   "execution_count": null,
   "id": "6e16ae34",
   "metadata": {},
   "outputs": [],
   "source": [
    "# Sorting in Reverse Order\n",
    "numbers = [8,2,4,5,0,1,9]\n",
    "sorted_list = sorted(numbers, reverse = True)\n",
    "\n",
    "print(sorted_list)"
   ]
  },
  {
   "cell_type": "code",
   "execution_count": null,
   "id": "cb80818a",
   "metadata": {},
   "outputs": [],
   "source": [
    "# Sorting Complex Objects\n",
    "class Person:\n",
    "    def __init__(self,name,age):\n",
    "        self.name = name\n",
    "        self.age = age \n",
    "        \n",
    "people = [Person(\"Alice\",25),Person(\"Bob\",30),Person(\"Charlie\",20)]\n",
    "\n",
    "sorted_people = sorted(people, key=lambda person:person.age)\n",
    "\n",
    "for person in sorted_people:\n",
    "    print(person.name,person.age)"
   ]
  },
  {
   "cell_type": "code",
   "execution_count": null,
   "id": "8a33b28a",
   "metadata": {},
   "outputs": [],
   "source": [
    "class Person:\n",
    "    def __init__(self,name,age):\n",
    "        self.name = name\n",
    "        self.age = age\n",
    "        \n",
    "people = [Person(\"Rahul\",45),Person(\"Raj\",30),Person(\"Anil\",25)]\n",
    "\n",
    "sorted_people = sorted(people,key = lambda person:person.age)\n",
    "\n",
    "for people in sorted_people:\n",
    "    print(people.name,people.age)\n",
    "        "
   ]
  },
  {
   "cell_type": "code",
   "execution_count": null,
   "id": "b82354f4",
   "metadata": {},
   "outputs": [],
   "source": [
    "# Sorting with None Values\n",
    "data = [3,None,1,2]\n",
    "\n",
    "sorted_data = sorted(data,key=lambda x:(x is None,x))\n",
    "print(sorted_data)"
   ]
  },
  {
   "cell_type": "code",
   "execution_count": null,
   "id": "43b6a627",
   "metadata": {},
   "outputs": [],
   "source": [
    "# Stability of Sorting:\n",
    "data = [(\"John\",\"B\"),(\"Jane\",\"A\"),(\"John\",\"A\")]\n",
    "sorted_data = sorted(data, key=lambda x:(x[0],x[1]))\n",
    "print(sorted_data)\n"
   ]
  },
  {
   "cell_type": "markdown",
   "id": "e955e606",
   "metadata": {},
   "source": [
    "### Regular Expressions"
   ]
  },
  {
   "cell_type": "code",
   "execution_count": null,
   "id": "27b4555c",
   "metadata": {},
   "outputs": [],
   "source": [
    "# 1. Simple Pattern Matching\n",
    "import re\n",
    "pattern = r\"hello\"\n",
    "text = \"hello world\"\n",
    "\n",
    "match = re.match(pattern,text)\n",
    "\n",
    "if match:\n",
    "    print(\"Exact match found\")\n",
    "else:\n",
    "    print(\"No match\")"
   ]
  },
  {
   "cell_type": "code",
   "execution_count": null,
   "id": "06019aa1",
   "metadata": {},
   "outputs": [],
   "source": [
    "# 2. Special Characters and Escaping\n",
    "import re\n",
    "\n",
    "pattern = r\"\\.com\"\n",
    "text = \"www.example.com\"\n",
    "\n",
    "match = re.search(pattern,text)\n",
    "\n",
    "if match:\n",
    "    print(\"Found '.com'\")\n",
    "else:\n",
    "    print(\"'.com' not found\")"
   ]
  },
  {
   "cell_type": "code",
   "execution_count": null,
   "id": "8d7c87d5",
   "metadata": {},
   "outputs": [],
   "source": [
    "# 3. Character Sets and Ranges\n",
    "import re\n",
    "\n",
    "pattern = r\"[aeiou]\"\n",
    "text = \"Python\"\n",
    "vowels = re.findall(pattern,text)\n",
    "print(vowels)"
   ]
  },
  {
   "cell_type": "code",
   "execution_count": null,
   "id": "9c543914",
   "metadata": {},
   "outputs": [],
   "source": [
    "pattern = r\"[0-9]\"\n",
    "text = \"My number is 12345\"\n",
    "digits = re.findall(pattern,text)\n",
    "\n",
    "print(digits)"
   ]
  },
  {
   "cell_type": "code",
   "execution_count": null,
   "id": "7db1f4b8",
   "metadata": {},
   "outputs": [],
   "source": [
    "# 4. Predefined Character Classes\n",
    "\n",
    "import re\n",
    "\n",
    "pattern = r\"\\d+\"\n",
    "text = \"The price is 250 rupees\"\n",
    "numbers = re.findall(pattern,text)\n",
    "\n",
    "print(numbers)"
   ]
  },
  {
   "cell_type": "code",
   "execution_count": null,
   "id": "24867d8c",
   "metadata": {},
   "outputs": [],
   "source": [
    "# 5. Anchors: Start and End of String\n",
    "\n",
    "import re\n",
    "\n",
    "text = \"Hello World\"\n",
    "pattern_start = r\"Hello\"\n",
    "match = re.match(pattern_start,text)\n",
    "if match:\n",
    "    print(\"String start with 'Hello'\")\n",
    "    \n",
    "pattern_end = r\"World$\"\n",
    "match_end=re.search(pattern_end,text)\n",
    "\n",
    "if match_end:\n",
    "    print(\"String end with 'World'\")"
   ]
  },
  {
   "cell_type": "code",
   "execution_count": null,
   "id": "1286d81e",
   "metadata": {},
   "outputs": [],
   "source": [
    "# 6. Quantifiers\n",
    "import re\n",
    "\n",
    "pattern = r\"\\d{3}-\\d{2}-\\d{4}\"\n",
    "text = \"My SSN is 123-45-6789\"\n",
    "\n",
    "match = re.search(pattern,text)\n",
    "if match:\n",
    "    print(\"Found SSN:\",match.group())"
   ]
  },
  {
   "cell_type": "code",
   "execution_count": null,
   "id": "a0280775",
   "metadata": {},
   "outputs": [],
   "source": [
    "# 7. Groups and Capturing\n",
    "import re\n",
    "\n",
    "pattern = r\"(\\d{3})-(\\d{2})-(\\d{4})\"\n",
    "text = \"SSN: 123-45-6789\"\n",
    "match = re.search(pattern,text)\n",
    "\n",
    "if match:\n",
    "    print(\"Area Number:\",match.group(1))\n",
    "    print(\"Group Number:\",match.group(2))\n",
    "    print(\"Serial Number:\",match.group(3))\n"
   ]
  },
  {
   "cell_type": "code",
   "execution_count": null,
   "id": "341dad61",
   "metadata": {},
   "outputs": [],
   "source": [
    "# 8. Non-Capturing Groups and Lookarounds\n",
    "\n",
    "# Positive Lookahead\n",
    "import re\n",
    "pattern = r\"\\w+(?=\\s\\d)\"\n",
    "text = \"Item1 100 Item2 200 Item3 300\"\n",
    "matches = re.findall(pattern,text)\n",
    "\n",
    "print(matches)\n",
    "\n",
    "# Negative Lookahead\n",
    "import re\n",
    "pattern = r\"\\d{4}(?!\\sUSD)\"\n",
    "text = \"The price is 1234 USD and the code is 5678\"\n",
    "matches = re.findall(pattern,text)\n",
    "\n",
    "print(matches)"
   ]
  },
  {
   "cell_type": "code",
   "execution_count": null,
   "id": "26de40d6",
   "metadata": {},
   "outputs": [],
   "source": [
    "# 9. Substitution Using re.sub()\n",
    "\n",
    "import re\n",
    "pattern = r\"\\d+\"\n",
    "text = \"I have 5 apples and 12 oranges\"\n",
    "new_text = re.sub(pattern,\"some\",text)\n",
    "\n",
    "print(new_text)"
   ]
  },
  {
   "cell_type": "code",
   "execution_count": null,
   "id": "dbe9bd1d",
   "metadata": {},
   "outputs": [],
   "source": [
    "# 10. Splitting a String Using re.split()\n",
    "import re\n",
    "\n",
    "pattern = r\"[,\\s]+\"\n",
    "text = \"apple, banana orange\"\n",
    "fruits = re.split(pattern, text)\n",
    "\n",
    "print(fruits)"
   ]
  },
  {
   "cell_type": "code",
   "execution_count": null,
   "id": "0e5b5496",
   "metadata": {},
   "outputs": [],
   "source": []
  }
 ],
 "metadata": {
  "kernelspec": {
   "display_name": "Python 3 (ipykernel)",
   "language": "python",
   "name": "python3"
  },
  "language_info": {
   "codemirror_mode": {
    "name": "ipython",
    "version": 3
   },
   "file_extension": ".py",
   "mimetype": "text/x-python",
   "name": "python",
   "nbconvert_exporter": "python",
   "pygments_lexer": "ipython3",
   "version": "3.9.16"
  }
 },
 "nbformat": 4,
 "nbformat_minor": 5
}
